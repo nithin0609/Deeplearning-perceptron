{
 "cells": [
  {
   "cell_type": "code",
   "execution_count": 1,
   "id": "37b48be2",
   "metadata": {},
   "outputs": [
    {
     "name": "stdout",
     "output_type": "stream",
     "text": [
      "Accuracy: 71.43%\n",
      "Confusion Matrix:\n",
      "[[88 11]\n",
      " [33 22]]\n",
      "Classification Report:\n",
      "              precision    recall  f1-score   support\n",
      "\n",
      "          -1       0.73      0.89      0.80        99\n",
      "           1       0.67      0.40      0.50        55\n",
      "\n",
      "    accuracy                           0.71       154\n",
      "   macro avg       0.70      0.64      0.65       154\n",
      "weighted avg       0.71      0.71      0.69       154\n",
      "\n"
     ]
    }
   ],
   "source": [
    "import numpy as np\n",
    "import pandas as pd\n",
    "from sklearn.model_selection import train_test_split\n",
    "from sklearn.metrics import accuracy_score, confusion_matrix, classification_report\n",
    "\n",
    "\n",
    "dataset_path = r'C:\\Users\\nithin\\Desktop\\diabetes.csv'\n",
    "data = pd.read_csv(dataset_path)\n",
    "\n",
    "\n",
    "X = data.iloc[:, :-1].values\n",
    "y = data.iloc[:, -1].values\n",
    "\n",
    "\n",
    "y = [1 if label == 1 else -1 for label in y]\n",
    "\n",
    "\n",
    "X_train, X_test, y_train, y_test = train_test_split(X, y, test_size=0.2, random_state=42)\n",
    "\n",
    "\n",
    "class Perceptron:\n",
    "    def __init__(self, learning_rate=0.01, num_epochs=100):\n",
    "        self.learning_rate = learning_rate\n",
    "        self.num_epochs = num_epochs\n",
    "        self.weights = None\n",
    "        self.bias = None\n",
    "\n",
    "    def fit(self, X, y):\n",
    "        num_samples, num_features = X.shape\n",
    "        self.weights = np.zeros(num_features)\n",
    "        self.bias = 0\n",
    "\n",
    "        for _ in range(self.num_epochs):\n",
    "            for i in range(num_samples):\n",
    "                linear_output = np.dot(X[i], self.weights) + self.bias\n",
    "                prediction = self.predict(linear_output)\n",
    "                update = self.learning_rate * (y[i] - prediction)\n",
    "\n",
    "                self.weights += update * X[i]\n",
    "                self.bias += update\n",
    "\n",
    "    def predict(self, X):\n",
    "        return np.where(X >= 0, 1, -1)\n",
    "\n",
    "\n",
    "perceptron = Perceptron(learning_rate=0.1, num_epochs=100)\n",
    "perceptron.fit(X_train, y_train)\n",
    "\n",
    "\n",
    "y_pred = perceptron.predict(np.dot(X_test, perceptron.weights) + perceptron.bias)\n",
    "\n",
    "\n",
    "accuracy = accuracy_score(y_test, y_pred)\n",
    "conf_matrix = confusion_matrix(y_test, y_pred)\n",
    "class_report = classification_report(y_test, y_pred)\n",
    "\n",
    "print(f\"Accuracy: {accuracy * 100:.2f}%\")\n",
    "print(\"Confusion Matrix:\")\n",
    "print(conf_matrix)\n",
    "print(\"Classification Report:\")\n",
    "print(class_report)\n",
    "\n"
   ]
  },
  {
   "cell_type": "code",
   "execution_count": null,
   "id": "b215cea0",
   "metadata": {},
   "outputs": [],
   "source": []
  }
 ],
 "metadata": {
  "kernelspec": {
   "display_name": "Python 3",
   "language": "python",
   "name": "python3"
  },
  "language_info": {
   "codemirror_mode": {
    "name": "ipython",
    "version": 3
   },
   "file_extension": ".py",
   "mimetype": "text/x-python",
   "name": "python",
   "nbconvert_exporter": "python",
   "pygments_lexer": "ipython3",
   "version": "3.8.8"
  }
 },
 "nbformat": 4,
 "nbformat_minor": 5
}
